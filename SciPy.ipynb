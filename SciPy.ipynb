{
 "cells": [
  {
   "cell_type": "markdown",
   "metadata": {},
   "source": [
    "##                                                              SciPy \n",
    "\n",
    "SciPy is a collection of mathematical algorithms and convenience functions built on the Numpy extension of Python. It adds significant power to the interactive Python session by providing the user with high-level commands and classes for manipulating and visualizing data. With SciPy an interactive Python session becomes a data-processing and system-prototyping environment rivaling systems such as MATLAB, IDL, Octave, R-Lab, and SciLab"
   ]
  },
  {
   "cell_type": "code",
   "execution_count": 2,
   "metadata": {},
   "outputs": [],
   "source": [
    "import numpy as np \n",
    "\n",
    "A = np.array([[1,2,3,4],[4,5,6,1],[7,8,8,3],[5,3,2,7]])\n",
    "B = np.arange(16).reshape(4,4)"
   ]
  },
  {
   "cell_type": "markdown",
   "metadata": {},
   "source": [
    "### Linear Algebra operations\n"
   ]
  },
  {
   "cell_type": "code",
   "execution_count": 2,
   "metadata": {},
   "outputs": [
    {
     "data": {
      "text/plain": [
       "81.00000000000004"
      ]
     },
     "execution_count": 2,
     "metadata": {},
     "output_type": "execute_result"
    }
   ],
   "source": [
    "from scipy import linalg\n",
    "\n",
    "# Compute the determinant of a matrix (note: the matrix should a square matrix)\n",
    "linalg.det(A)"
   ]
  },
  {
   "cell_type": "code",
   "execution_count": 3,
   "metadata": {},
   "outputs": [
    {
     "data": {
      "text/plain": [
       "array([[-0.49382716,  0.90123457, -0.59259259,  0.40740741],\n",
       "       [ 0.37037037, -1.92592593,  1.44444444, -0.55555556],\n",
       "       [-0.01234568,  1.19753086, -0.81481481,  0.18518519],\n",
       "       [ 0.19753086, -0.16049383,  0.03703704,  0.03703704]])"
      ]
     },
     "execution_count": 3,
     "metadata": {},
     "output_type": "execute_result"
    }
   ],
   "source": [
    "#compute inverse of a matrix\n",
    "linalg.inv(A)\n",
    "\n",
    "# matrix inverse cannot be computed on a singular matrix"
   ]
  },
  {
   "cell_type": "code",
   "execution_count": 4,
   "metadata": {},
   "outputs": [],
   "source": [
    "B= np.arange(16).reshape(4,4)"
   ]
  },
  {
   "cell_type": "markdown",
   "metadata": {},
   "source": [
    "### Creating a sparce matrix"
   ]
  },
  {
   "cell_type": "code",
   "execution_count": 8,
   "metadata": {},
   "outputs": [
    {
     "name": "stdout",
     "output_type": "stream",
     "text": [
      "[[0.         0.         0.         0.         0.        ]\n",
      " [0.         0.9807642  0.         0.         0.        ]\n",
      " [0.         0.         0.         0.         0.        ]\n",
      " [0.         0.         0.         0.         0.        ]\n",
      " [0.         0.84943179 0.         0.         0.        ]\n",
      " [0.         0.         0.         0.         0.        ]\n",
      " [0.         0.         0.         0.         0.        ]\n",
      " [0.         0.         0.89338916 0.94416002 0.        ]\n",
      " [0.         0.         0.         0.         0.86630916]\n",
      " [0.         0.         0.98555979 0.         0.        ]]\n",
      "  (1, 1)\t0.9807641983846155\n",
      "  (4, 1)\t0.8494317940777896\n",
      "  (7, 2)\t0.8933891631171348\n",
      "  (7, 3)\t0.9441600182038796\n",
      "  (8, 4)\t0.8663091578833659\n",
      "  (9, 2)\t0.985559785610705\n"
     ]
    }
   ],
   "source": [
    "from scipy import sparse\n",
    "\n",
    "# Create a random array with a lot of zeros\n",
    "rnd = np.random.randint(0,1)\n",
    "X[X < 0.8] = 0\n",
    "print(X)\n",
    "\n",
    "# turn X into a CSR (Compressed-Sparse-Row) matrix\n",
    "X_csr = sparse.csr_matrix(X)\n",
    "print(X_csr)"
   ]
  },
  {
   "cell_type": "markdown",
   "metadata": {},
   "source": [
    "### Compute pivoted SVD decomposition of a matrix.\n",
    "\n",
    "The decomposition is::\n",
    "A = SVD\n",
    "\n",
    "\n",
    "where P is a permutation matrix, L lower triangular with unit diagonal elements, and U upper triangular.\n"
   ]
  },
  {
   "cell_type": "code",
   "execution_count": 52,
   "metadata": {},
   "outputs": [],
   "source": [
    "SVD = np.random.randint(10, size=(1, 12)).reshape(3,4)\n",
    "u_arr, s_arr, v_arr = linalg.svd(SVD)"
   ]
  },
  {
   "cell_type": "code",
   "execution_count": 53,
   "metadata": {},
   "outputs": [
    {
     "name": "stdout",
     "output_type": "stream",
     "text": [
      "U matrix:  [[-0.42967742  0.66243808 -0.61363923]\n",
      " [-0.87627825 -0.46993963  0.10626939]\n",
      " [-0.2179765   0.58338027  0.78240252]] \n",
      " \n",
      " S matrix:  [14.45721548  4.47864863  2.63260843] \n",
      " \n",
      " V matrix:  [[-0.57405648 -0.39382566 -0.55824262 -0.45135981]\n",
      " [-0.39570033 -0.36905713 -0.01260308  0.84086815]\n",
      " [-0.37634254  0.83659286 -0.35260415  0.18479448]\n",
      " [-0.61012023  0.09386465  0.75091721 -0.23466163]]\n"
     ]
    }
   ],
   "source": [
    "print('U matrix: ', u_arr, '\\n',#Unitary matrix having left singular vectors as columns. Of shape (M, M) or (M, K)\n",
    "     '\\n','S matrix: ', s_arr, '\\n',#The singular values, sorted in non-increasing order. Of shape (K,)\n",
    "     '\\n','V matrix: ', v_arr) #Unitary matrix having right singular vectors as rows. Of shape (N, N) or (K, N)"
   ]
  },
  {
   "cell_type": "code",
   "execution_count": null,
   "metadata": {},
   "outputs": [],
   "source": []
  }
 ],
 "metadata": {
  "kernelspec": {
   "display_name": "Python 3",
   "language": "python",
   "name": "python3"
  },
  "language_info": {
   "codemirror_mode": {
    "name": "ipython",
    "version": 3
   },
   "file_extension": ".py",
   "mimetype": "text/x-python",
   "name": "python",
   "nbconvert_exporter": "python",
   "pygments_lexer": "ipython3",
   "version": "3.6.4"
  }
 },
 "nbformat": 4,
 "nbformat_minor": 2
}
